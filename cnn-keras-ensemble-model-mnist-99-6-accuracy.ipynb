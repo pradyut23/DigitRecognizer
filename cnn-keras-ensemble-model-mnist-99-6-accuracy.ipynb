{
 "cells": [
  {
   "cell_type": "markdown",
   "execution_count": null,
   "metadata": {
    "papermill": {
     "duration": 0.006963,
     "end_time": "2020-09-09T11:44:14.170474",
     "exception": false,
     "start_time": "2020-09-09T11:44:14.163511",
     "status": "completed"
    },
    "tags": []
   },
   "source": [
    "# MNIST Digit Recognizer\n",
    "**\"Hello World\"**.\n",
    "This notebook will help in understanding the basics of Computer Vision and design a CNN model to identify hand written numbers with high accuracy."
   ]
  },
  {
   "cell_type": "code",
   "execution_count": 1,
   "metadata": {
    "_cell_guid": "b1076dfc-b9ad-4769-8c92-a6c4dae69d19",
    "_uuid": "8f2839f25d086af736a60e9eeb907d3b93b6e0e5",
    "execution": {
     "iopub.execute_input": "2020-09-09T11:44:14.186821Z",
     "iopub.status.busy": "2020-09-09T11:44:14.186084Z",
     "iopub.status.idle": "2020-09-09T11:44:20.011767Z",
     "shell.execute_reply": "2020-09-09T11:44:20.010349Z"
    },
    "papermill": {
     "duration": 5.835685,
     "end_time": "2020-09-09T11:44:20.011925",
     "exception": false,
     "start_time": "2020-09-09T11:44:14.176240",
     "status": "completed"
    },
    "tags": []
   },
   "outputs": [],
   "source": [
    "import pandas as pd\n",
    "import numpy as np\n",
    "import tensorflow as tf"
   ]
  },
  {
   "cell_type": "markdown",
   "execution_count": null,
   "metadata": {
    "papermill": {
     "duration": 0.005678,
     "end_time": "2020-09-09T11:44:20.023435",
     "exception": false,
     "start_time": "2020-09-09T11:44:20.017757",
     "status": "completed"
    },
    "tags": []
   },
   "source": [
    "# Data Reading and Cleaning"
   ]
  },
  {
   "cell_type": "code",
   "execution_count": 2,
   "metadata": {
    "_cell_guid": "79c7e3d0-c299-4dcb-8224-4455121ee9b0",
    "_uuid": "d629ff2d2480ee46fbb7e2d37f6b5fab8052498a",
    "execution": {
     "iopub.execute_input": "2020-09-09T11:44:20.046422Z",
     "iopub.status.busy": "2020-09-09T11:44:20.045788Z",
     "iopub.status.idle": "2020-09-09T11:44:23.224639Z",
     "shell.execute_reply": "2020-09-09T11:44:23.224134Z"
    },
    "papermill": {
     "duration": 3.194256,
     "end_time": "2020-09-09T11:44:23.224740",
     "exception": false,
     "start_time": "2020-09-09T11:44:20.030484",
     "status": "completed"
    },
    "tags": []
   },
   "outputs": [
    {
     "name": "stdout",
     "output_type": "stream",
     "text": [
      "Training Dataset Shape: (42000, 785)\n"
     ]
    },
    {
     "data": {
      "text/html": [
       "<div>\n",
       "<style scoped>\n",
       "    .dataframe tbody tr th:only-of-type {\n",
       "        vertical-align: middle;\n",
       "    }\n",
       "\n",
       "    .dataframe tbody tr th {\n",
       "        vertical-align: top;\n",
       "    }\n",
       "\n",
       "    .dataframe thead th {\n",
       "        text-align: right;\n",
       "    }\n",
       "</style>\n",
       "<table border=\"1\" class=\"dataframe\">\n",
       "  <thead>\n",
       "    <tr style=\"text-align: right;\">\n",
       "      <th></th>\n",
       "      <th>label</th>\n",
       "      <th>pixel0</th>\n",
       "      <th>pixel1</th>\n",
       "      <th>pixel2</th>\n",
       "      <th>pixel3</th>\n",
       "      <th>pixel4</th>\n",
       "      <th>pixel5</th>\n",
       "      <th>pixel6</th>\n",
       "      <th>pixel7</th>\n",
       "      <th>pixel8</th>\n",
       "      <th>...</th>\n",
       "      <th>pixel774</th>\n",
       "      <th>pixel775</th>\n",
       "      <th>pixel776</th>\n",
       "      <th>pixel777</th>\n",
       "      <th>pixel778</th>\n",
       "      <th>pixel779</th>\n",
       "      <th>pixel780</th>\n",
       "      <th>pixel781</th>\n",
       "      <th>pixel782</th>\n",
       "      <th>pixel783</th>\n",
       "    </tr>\n",
       "  </thead>\n",
       "  <tbody>\n",
       "    <tr>\n",
       "      <th>0</th>\n",
       "      <td>1</td>\n",
       "      <td>0</td>\n",
       "      <td>0</td>\n",
       "      <td>0</td>\n",
       "      <td>0</td>\n",
       "      <td>0</td>\n",
       "      <td>0</td>\n",
       "      <td>0</td>\n",
       "      <td>0</td>\n",
       "      <td>0</td>\n",
       "      <td>...</td>\n",
       "      <td>0</td>\n",
       "      <td>0</td>\n",
       "      <td>0</td>\n",
       "      <td>0</td>\n",
       "      <td>0</td>\n",
       "      <td>0</td>\n",
       "      <td>0</td>\n",
       "      <td>0</td>\n",
       "      <td>0</td>\n",
       "      <td>0</td>\n",
       "    </tr>\n",
       "    <tr>\n",
       "      <th>1</th>\n",
       "      <td>0</td>\n",
       "      <td>0</td>\n",
       "      <td>0</td>\n",
       "      <td>0</td>\n",
       "      <td>0</td>\n",
       "      <td>0</td>\n",
       "      <td>0</td>\n",
       "      <td>0</td>\n",
       "      <td>0</td>\n",
       "      <td>0</td>\n",
       "      <td>...</td>\n",
       "      <td>0</td>\n",
       "      <td>0</td>\n",
       "      <td>0</td>\n",
       "      <td>0</td>\n",
       "      <td>0</td>\n",
       "      <td>0</td>\n",
       "      <td>0</td>\n",
       "      <td>0</td>\n",
       "      <td>0</td>\n",
       "      <td>0</td>\n",
       "    </tr>\n",
       "    <tr>\n",
       "      <th>2</th>\n",
       "      <td>1</td>\n",
       "      <td>0</td>\n",
       "      <td>0</td>\n",
       "      <td>0</td>\n",
       "      <td>0</td>\n",
       "      <td>0</td>\n",
       "      <td>0</td>\n",
       "      <td>0</td>\n",
       "      <td>0</td>\n",
       "      <td>0</td>\n",
       "      <td>...</td>\n",
       "      <td>0</td>\n",
       "      <td>0</td>\n",
       "      <td>0</td>\n",
       "      <td>0</td>\n",
       "      <td>0</td>\n",
       "      <td>0</td>\n",
       "      <td>0</td>\n",
       "      <td>0</td>\n",
       "      <td>0</td>\n",
       "      <td>0</td>\n",
       "    </tr>\n",
       "    <tr>\n",
       "      <th>3</th>\n",
       "      <td>4</td>\n",
       "      <td>0</td>\n",
       "      <td>0</td>\n",
       "      <td>0</td>\n",
       "      <td>0</td>\n",
       "      <td>0</td>\n",
       "      <td>0</td>\n",
       "      <td>0</td>\n",
       "      <td>0</td>\n",
       "      <td>0</td>\n",
       "      <td>...</td>\n",
       "      <td>0</td>\n",
       "      <td>0</td>\n",
       "      <td>0</td>\n",
       "      <td>0</td>\n",
       "      <td>0</td>\n",
       "      <td>0</td>\n",
       "      <td>0</td>\n",
       "      <td>0</td>\n",
       "      <td>0</td>\n",
       "      <td>0</td>\n",
       "    </tr>\n",
       "    <tr>\n",
       "      <th>4</th>\n",
       "      <td>0</td>\n",
       "      <td>0</td>\n",
       "      <td>0</td>\n",
       "      <td>0</td>\n",
       "      <td>0</td>\n",
       "      <td>0</td>\n",
       "      <td>0</td>\n",
       "      <td>0</td>\n",
       "      <td>0</td>\n",
       "      <td>0</td>\n",
       "      <td>...</td>\n",
       "      <td>0</td>\n",
       "      <td>0</td>\n",
       "      <td>0</td>\n",
       "      <td>0</td>\n",
       "      <td>0</td>\n",
       "      <td>0</td>\n",
       "      <td>0</td>\n",
       "      <td>0</td>\n",
       "      <td>0</td>\n",
       "      <td>0</td>\n",
       "    </tr>\n",
       "  </tbody>\n",
       "</table>\n",
       "<p>5 rows × 785 columns</p>\n",
       "</div>"
      ],
      "text/plain": [
       "   label  pixel0  pixel1  pixel2  pixel3  pixel4  pixel5  pixel6  pixel7  \\\n",
       "0      1       0       0       0       0       0       0       0       0   \n",
       "1      0       0       0       0       0       0       0       0       0   \n",
       "2      1       0       0       0       0       0       0       0       0   \n",
       "3      4       0       0       0       0       0       0       0       0   \n",
       "4      0       0       0       0       0       0       0       0       0   \n",
       "\n",
       "   pixel8  ...  pixel774  pixel775  pixel776  pixel777  pixel778  pixel779  \\\n",
       "0       0  ...         0         0         0         0         0         0   \n",
       "1       0  ...         0         0         0         0         0         0   \n",
       "2       0  ...         0         0         0         0         0         0   \n",
       "3       0  ...         0         0         0         0         0         0   \n",
       "4       0  ...         0         0         0         0         0         0   \n",
       "\n",
       "   pixel780  pixel781  pixel782  pixel783  \n",
       "0         0         0         0         0  \n",
       "1         0         0         0         0  \n",
       "2         0         0         0         0  \n",
       "3         0         0         0         0  \n",
       "4         0         0         0         0  \n",
       "\n",
       "[5 rows x 785 columns]"
      ]
     },
     "execution_count": 2,
     "metadata": {},
     "output_type": "execute_result"
    }
   ],
   "source": [
    "#Training Dataset\n",
    "train=pd.read_csv('/kaggle/input/digit-recognizer/train.csv')\n",
    "print(\"Training Dataset Shape:\",train.shape)\n",
    "train.head()"
   ]
  },
  {
   "cell_type": "code",
   "execution_count": 3,
   "metadata": {
    "execution": {
     "iopub.execute_input": "2020-09-09T11:44:23.244913Z",
     "iopub.status.busy": "2020-09-09T11:44:23.244287Z",
     "iopub.status.idle": "2020-09-09T11:44:25.071345Z",
     "shell.execute_reply": "2020-09-09T11:44:25.070401Z"
    },
    "papermill": {
     "duration": 1.840037,
     "end_time": "2020-09-09T11:44:25.071453",
     "exception": false,
     "start_time": "2020-09-09T11:44:23.231416",
     "status": "completed"
    },
    "tags": []
   },
   "outputs": [
    {
     "name": "stdout",
     "output_type": "stream",
     "text": [
      "Test Dataset Shape: (28000, 784)\n"
     ]
    },
    {
     "data": {
      "text/html": [
       "<div>\n",
       "<style scoped>\n",
       "    .dataframe tbody tr th:only-of-type {\n",
       "        vertical-align: middle;\n",
       "    }\n",
       "\n",
       "    .dataframe tbody tr th {\n",
       "        vertical-align: top;\n",
       "    }\n",
       "\n",
       "    .dataframe thead th {\n",
       "        text-align: right;\n",
       "    }\n",
       "</style>\n",
       "<table border=\"1\" class=\"dataframe\">\n",
       "  <thead>\n",
       "    <tr style=\"text-align: right;\">\n",
       "      <th></th>\n",
       "      <th>pixel0</th>\n",
       "      <th>pixel1</th>\n",
       "      <th>pixel2</th>\n",
       "      <th>pixel3</th>\n",
       "      <th>pixel4</th>\n",
       "      <th>pixel5</th>\n",
       "      <th>pixel6</th>\n",
       "      <th>pixel7</th>\n",
       "      <th>pixel8</th>\n",
       "      <th>pixel9</th>\n",
       "      <th>...</th>\n",
       "      <th>pixel774</th>\n",
       "      <th>pixel775</th>\n",
       "      <th>pixel776</th>\n",
       "      <th>pixel777</th>\n",
       "      <th>pixel778</th>\n",
       "      <th>pixel779</th>\n",
       "      <th>pixel780</th>\n",
       "      <th>pixel781</th>\n",
       "      <th>pixel782</th>\n",
       "      <th>pixel783</th>\n",
       "    </tr>\n",
       "  </thead>\n",
       "  <tbody>\n",
       "    <tr>\n",
       "      <th>0</th>\n",
       "      <td>0</td>\n",
       "      <td>0</td>\n",
       "      <td>0</td>\n",
       "      <td>0</td>\n",
       "      <td>0</td>\n",
       "      <td>0</td>\n",
       "      <td>0</td>\n",
       "      <td>0</td>\n",
       "      <td>0</td>\n",
       "      <td>0</td>\n",
       "      <td>...</td>\n",
       "      <td>0</td>\n",
       "      <td>0</td>\n",
       "      <td>0</td>\n",
       "      <td>0</td>\n",
       "      <td>0</td>\n",
       "      <td>0</td>\n",
       "      <td>0</td>\n",
       "      <td>0</td>\n",
       "      <td>0</td>\n",
       "      <td>0</td>\n",
       "    </tr>\n",
       "    <tr>\n",
       "      <th>1</th>\n",
       "      <td>0</td>\n",
       "      <td>0</td>\n",
       "      <td>0</td>\n",
       "      <td>0</td>\n",
       "      <td>0</td>\n",
       "      <td>0</td>\n",
       "      <td>0</td>\n",
       "      <td>0</td>\n",
       "      <td>0</td>\n",
       "      <td>0</td>\n",
       "      <td>...</td>\n",
       "      <td>0</td>\n",
       "      <td>0</td>\n",
       "      <td>0</td>\n",
       "      <td>0</td>\n",
       "      <td>0</td>\n",
       "      <td>0</td>\n",
       "      <td>0</td>\n",
       "      <td>0</td>\n",
       "      <td>0</td>\n",
       "      <td>0</td>\n",
       "    </tr>\n",
       "    <tr>\n",
       "      <th>2</th>\n",
       "      <td>0</td>\n",
       "      <td>0</td>\n",
       "      <td>0</td>\n",
       "      <td>0</td>\n",
       "      <td>0</td>\n",
       "      <td>0</td>\n",
       "      <td>0</td>\n",
       "      <td>0</td>\n",
       "      <td>0</td>\n",
       "      <td>0</td>\n",
       "      <td>...</td>\n",
       "      <td>0</td>\n",
       "      <td>0</td>\n",
       "      <td>0</td>\n",
       "      <td>0</td>\n",
       "      <td>0</td>\n",
       "      <td>0</td>\n",
       "      <td>0</td>\n",
       "      <td>0</td>\n",
       "      <td>0</td>\n",
       "      <td>0</td>\n",
       "    </tr>\n",
       "    <tr>\n",
       "      <th>3</th>\n",
       "      <td>0</td>\n",
       "      <td>0</td>\n",
       "      <td>0</td>\n",
       "      <td>0</td>\n",
       "      <td>0</td>\n",
       "      <td>0</td>\n",
       "      <td>0</td>\n",
       "      <td>0</td>\n",
       "      <td>0</td>\n",
       "      <td>0</td>\n",
       "      <td>...</td>\n",
       "      <td>0</td>\n",
       "      <td>0</td>\n",
       "      <td>0</td>\n",
       "      <td>0</td>\n",
       "      <td>0</td>\n",
       "      <td>0</td>\n",
       "      <td>0</td>\n",
       "      <td>0</td>\n",
       "      <td>0</td>\n",
       "      <td>0</td>\n",
       "    </tr>\n",
       "    <tr>\n",
       "      <th>4</th>\n",
       "      <td>0</td>\n",
       "      <td>0</td>\n",
       "      <td>0</td>\n",
       "      <td>0</td>\n",
       "      <td>0</td>\n",
       "      <td>0</td>\n",
       "      <td>0</td>\n",
       "      <td>0</td>\n",
       "      <td>0</td>\n",
       "      <td>0</td>\n",
       "      <td>...</td>\n",
       "      <td>0</td>\n",
       "      <td>0</td>\n",
       "      <td>0</td>\n",
       "      <td>0</td>\n",
       "      <td>0</td>\n",
       "      <td>0</td>\n",
       "      <td>0</td>\n",
       "      <td>0</td>\n",
       "      <td>0</td>\n",
       "      <td>0</td>\n",
       "    </tr>\n",
       "  </tbody>\n",
       "</table>\n",
       "<p>5 rows × 784 columns</p>\n",
       "</div>"
      ],
      "text/plain": [
       "   pixel0  pixel1  pixel2  pixel3  pixel4  pixel5  pixel6  pixel7  pixel8  \\\n",
       "0       0       0       0       0       0       0       0       0       0   \n",
       "1       0       0       0       0       0       0       0       0       0   \n",
       "2       0       0       0       0       0       0       0       0       0   \n",
       "3       0       0       0       0       0       0       0       0       0   \n",
       "4       0       0       0       0       0       0       0       0       0   \n",
       "\n",
       "   pixel9  ...  pixel774  pixel775  pixel776  pixel777  pixel778  pixel779  \\\n",
       "0       0  ...         0         0         0         0         0         0   \n",
       "1       0  ...         0         0         0         0         0         0   \n",
       "2       0  ...         0         0         0         0         0         0   \n",
       "3       0  ...         0         0         0         0         0         0   \n",
       "4       0  ...         0         0         0         0         0         0   \n",
       "\n",
       "   pixel780  pixel781  pixel782  pixel783  \n",
       "0         0         0         0         0  \n",
       "1         0         0         0         0  \n",
       "2         0         0         0         0  \n",
       "3         0         0         0         0  \n",
       "4         0         0         0         0  \n",
       "\n",
       "[5 rows x 784 columns]"
      ]
     },
     "execution_count": 3,
     "metadata": {},
     "output_type": "execute_result"
    }
   ],
   "source": [
    "#Testing Dataset\n",
    "test=pd.read_csv('/kaggle/input/digit-recognizer/test.csv')\n",
    "print('Test Dataset Shape:',test.shape)\n",
    "test.head()"
   ]
  },
  {
   "cell_type": "code",
   "execution_count": 4,
   "metadata": {
    "execution": {
     "iopub.execute_input": "2020-09-09T11:44:25.177419Z",
     "iopub.status.busy": "2020-09-09T11:44:25.176497Z",
     "iopub.status.idle": "2020-09-09T11:44:25.182354Z",
     "shell.execute_reply": "2020-09-09T11:44:25.181723Z"
    },
    "papermill": {
     "duration": 0.103963,
     "end_time": "2020-09-09T11:44:25.182483",
     "exception": false,
     "start_time": "2020-09-09T11:44:25.078520",
     "status": "completed"
    },
    "tags": []
   },
   "outputs": [
    {
     "name": "stdout",
     "output_type": "stream",
     "text": [
      "Variables Shape: (42000, 784)\n",
      "Labels Shape: (42000,)\n"
     ]
    }
   ],
   "source": [
    "#Extracting the dependent and independent variables\n",
    "y=train['label'].values #To be predicted\n",
    "x=train.drop('label',axis=1).values #Independent Variables\n",
    "print('Variables Shape:',x.shape)\n",
    "print('Labels Shape:',y.shape)"
   ]
  },
  {
   "cell_type": "code",
   "execution_count": 5,
   "metadata": {
    "execution": {
     "iopub.execute_input": "2020-09-09T11:44:25.206412Z",
     "iopub.status.busy": "2020-09-09T11:44:25.205600Z",
     "iopub.status.idle": "2020-09-09T11:44:26.318448Z",
     "shell.execute_reply": "2020-09-09T11:44:26.318945Z"
    },
    "papermill": {
     "duration": 1.128435,
     "end_time": "2020-09-09T11:44:26.319079",
     "exception": false,
     "start_time": "2020-09-09T11:44:25.190644",
     "status": "completed"
    },
    "tags": []
   },
   "outputs": [
    {
     "data": {
      "image/png": "[encoded data removed]",
      "text/plain": [
       "<Figure size 864x360 with 30 Axes>"
      ]
     },
     "metadata": {
      "needs_background": "light"
     },
     "output_type": "display_data"
    }
   ],
   "source": [
    "#Displaying some images from the dataset\n",
    "import matplotlib.pyplot as plt\n",
    "x=x.reshape(x.shape[0],28,28)\n",
    "fig=plt.figure(figsize=(12,5))\n",
    "for i in range(30):\n",
    "    plt.subplot(3,10,i+1)\n",
    "    plt.axis('off')\n",
    "    plt.imshow(x[i],cmap=plt.cm.binary)"
   ]
  },
  {
   "cell_type": "code",
   "execution_count": 6,
   "metadata": {
    "execution": {
     "iopub.execute_input": "2020-09-09T11:44:26.341995Z",
     "iopub.status.busy": "2020-09-09T11:44:26.341159Z",
     "iopub.status.idle": "2020-09-09T11:44:26.580165Z",
     "shell.execute_reply": "2020-09-09T11:44:26.580632Z"
    },
    "papermill": {
     "duration": 0.253828,
     "end_time": "2020-09-09T11:44:26.580773",
     "exception": false,
     "start_time": "2020-09-09T11:44:26.326945",
     "status": "completed"
    },
    "tags": []
   },
   "outputs": [],
   "source": [
    "#Reshaping and Normalization\n",
    "from keras.utils.np_utils import to_categorical\n",
    "\n",
    "#Reshape images to input into CNN layers as a 4D Tensor\n",
    "x=x.reshape(-1,28,28,1)\n",
    "test=test.values.reshape(-1,28,28,1)\n",
    "#Normalization\n",
    "x=x/255\n",
    "test=test/255\n",
    "#One Hot Encoding the labels\n",
    "y=to_categorical(y)"
   ]
  },
  {
   "cell_type": "markdown",
   "execution_count": null,
   "metadata": {
    "papermill": {
     "duration": 0.007398,
     "end_time": "2020-09-09T11:44:26.595717",
     "exception": false,
     "start_time": "2020-09-09T11:44:26.588319",
     "status": "completed"
    },
    "tags": []
   },
   "source": [
    "# CNN Model"
   ]
  },
  {
   "cell_type": "code",
   "execution_count": 7,
   "metadata": {
    "execution": {
     "iopub.execute_input": "2020-09-09T11:44:26.617041Z",
     "iopub.status.busy": "2020-09-09T11:44:26.616130Z",
     "iopub.status.idle": "2020-09-09T11:44:26.621270Z",
     "shell.execute_reply": "2020-09-09T11:44:26.620735Z"
    },
    "papermill": {
     "duration": 0.017979,
     "end_time": "2020-09-09T11:44:26.621367",
     "exception": false,
     "start_time": "2020-09-09T11:44:26.603388",
     "status": "completed"
    },
    "tags": []
   },
   "outputs": [],
   "source": [
    "#Data Augmentation to increase number of input images\n",
    "from keras.preprocessing.image import ImageDataGenerator\n",
    "\n",
    "train_datagen=ImageDataGenerator(\n",
    "    rotation_range=10,\n",
    "    width_shift_range=0.2,\n",
    "    height_shift_range=0.2,\n",
    "    zoom_range=0.2,\n",
    "    fill_mode='nearest'\n",
    ")"
   ]
  },
  {
   "cell_type": "code",
   "execution_count": 8,
   "metadata": {
    "execution": {
     "iopub.execute_input": "2020-09-09T11:44:26.656854Z",
     "iopub.status.busy": "2020-09-09T11:44:26.656135Z",
     "iopub.status.idle": "2020-09-09T11:44:32.556580Z",
     "shell.execute_reply": "2020-09-09T11:44:32.555630Z"
    },
    "papermill": {
     "duration": 5.927932,
     "end_time": "2020-09-09T11:44:32.556691",
     "exception": false,
     "start_time": "2020-09-09T11:44:26.628759",
     "status": "completed"
    },
    "tags": []
   },
   "outputs": [],
   "source": [
    "#CNN Ensemble Models\n",
    "#To learn about deep learning ensemble models:\n",
    "# https://machinelearningmastery.com/ensemble-methods-for-deep-learning-neural-networks/\n",
    "from keras.models import Sequential\n",
    "from keras.layers import Conv2D,Dropout,Dense,GlobalAveragePooling2D,MaxPool2D,Flatten,BatchNormalization\n",
    "\n",
    "ensem=10\n",
    "model=[0]*ensem\n",
    "for i in range(ensem):\n",
    "    model[i]=Sequential()\n",
    "    model[i].add(Conv2D(filters=32,kernel_size=(3,3),padding='same',activation='relu',input_shape=(28,28,1)))\n",
    "    model[i].add(BatchNormalization())\n",
    "    model[i].add(Conv2D(filters=32,kernel_size=(3,3),padding='same',activation='relu'))\n",
    "    model[i].add(BatchNormalization())\n",
    "    model[i].add(Conv2D(filters=32,kernel_size=(3,3),padding='same',activation='relu'))\n",
    "    model[i].add(BatchNormalization())\n",
    "    model[i].add(MaxPool2D(2,2))\n",
    "    model[i].add(Dropout(0.2))\n",
    "\n",
    "    model[i].add(Conv2D(filters=64,kernel_size=(3,3),padding='same',activation='relu'))\n",
    "    model[i].add(BatchNormalization())\n",
    "    model[i].add(Conv2D(filters=64,kernel_size=(3,3),padding='same',activation='relu'))\n",
    "    model[i].add(BatchNormalization())\n",
    "    model[i].add(Conv2D(filters=64,kernel_size=(3,3),padding='same',activation='relu'))\n",
    "    model[i].add(BatchNormalization())\n",
    "    model[i].add(MaxPool2D(2,2))\n",
    "    model[i].add(Dropout(0.2))\n",
    "\n",
    "    model[i].add(GlobalAveragePooling2D())\n",
    "    model[i].add(Dense(128,activation='relu'))\n",
    "    model[i].add(Dropout(0.2))\n",
    "    model[i].add(Dense(10,activation='softmax'))\n",
    "    \n",
    "    model[i].compile(loss='categorical_crossentropy',metrics=['accuracy'],optimizer='adam')"
   ]
  },
  {
   "cell_type": "code",
   "execution_count": 9,
   "metadata": {
    "execution": {
     "iopub.execute_input": "2020-09-09T11:44:32.583184Z",
     "iopub.status.busy": "2020-09-09T11:44:32.579956Z",
     "iopub.status.idle": "2020-09-09T13:03:40.071258Z",
     "shell.execute_reply": "2020-09-09T13:03:40.071891Z"
    },
    "papermill": {
     "duration": 4747.507662,
     "end_time": "2020-09-09T13:03:40.072088",
     "exception": false,
     "start_time": "2020-09-09T11:44:32.564426",
     "status": "completed"
    },
    "tags": []
   },
   "outputs": [
    {
     "name": "stdout",
     "output_type": "stream",
     "text": [
      "Model 1: Epochs=100, Train_Accuracy:0.9959667921066284, Val_Accuracy:0.9957143068313599\n",
      "Model 2: Epochs=100, Train_Accuracy:0.9969227910041809, Val_Accuracy:0.9955952167510986\n",
      "Model 3: Epochs=100, Train_Accuracy:0.9962058067321777, Val_Accuracy:0.9946428537368774\n",
      "Model 4: Epochs=100, Train_Accuracy:0.9967734217643738, Val_Accuracy:0.995119035243988\n",
      "Model 5: Epochs=100, Train_Accuracy:0.994293749332428, Val_Accuracy:0.9957143068313599\n",
      "Model 6: Epochs=100, Train_Accuracy:0.9969825744628906, Val_Accuracy:0.9941666722297668\n",
      "Model 7: Epochs=100, Train_Accuracy:0.9975800514221191, Val_Accuracy:0.9952380657196045\n",
      "Model 8: Epochs=100, Train_Accuracy:0.9951601624488831, Val_Accuracy:0.9957143068313599\n",
      "Model 9: Epochs=100, Train_Accuracy:0.9965941905975342, Val_Accuracy:0.9959523677825928\n",
      "Model 10: Epochs=100, Train_Accuracy:0.9973709583282471, Val_Accuracy:0.9963095188140869\n"
     ]
    }
   ],
   "source": [
    "import tensorflow as tf\n",
    "from sklearn.model_selection import train_test_split\n",
    "\n",
    "callback=tf.keras.callbacks.EarlyStopping(monitor='accuracy',min_delta=0,patience=5,mode='auto',restore_best_weights=True,verbose=0)\n",
    "lrs=tf.keras.callbacks.LearningRateScheduler(lambda x: 1e-3 * 0.95 ** x, verbose=0)\n",
    "\n",
    "history=[0]*ensem\n",
    "for i in range(ensem):\n",
    "    train_x,valid_x,train_y,valid_y=train_test_split(x,y,test_size=0.2)\n",
    "    history[i]=model[i].fit_generator(train_datagen.flow(train_x,train_y,batch_size=128),\n",
    "                      epochs=100,\n",
    "                      steps_per_epoch=train_x.shape[0]//128,\n",
    "                      verbose=0,\n",
    "                      validation_data=(valid_x,valid_y),\n",
    "                      validation_steps=valid_x.shape[0]//128,\n",
    "                      callbacks=[callback,lrs])\n",
    "    print('Model {}: Epochs=100, Train_Accuracy:{}, Val_Accuracy:{}'.format(i+1,max(history[i].history['accuracy']),max(history[i].history['val_accuracy'])))"
   ]
  },
  {
   "cell_type": "markdown",
   "execution_count": null,
   "metadata": {
    "papermill": {
     "duration": 0.007972,
     "end_time": "2020-09-09T13:03:40.088390",
     "exception": false,
     "start_time": "2020-09-09T13:03:40.080418",
     "status": "completed"
    },
    "tags": []
   },
   "source": [
    "# Plotting"
   ]
  },
  {
   "cell_type": "code",
   "execution_count": 10,
   "metadata": {
    "execution": {
     "iopub.execute_input": "2020-09-09T13:03:40.117110Z",
     "iopub.status.busy": "2020-09-09T13:03:40.116135Z",
     "iopub.status.idle": "2020-09-09T13:03:40.383729Z",
     "shell.execute_reply": "2020-09-09T13:03:40.383205Z"
    },
    "papermill": {
     "duration": 0.286886,
     "end_time": "2020-09-09T13:03:40.383869",
     "exception": false,
     "start_time": "2020-09-09T13:03:40.096983",
     "status": "completed"
    },
    "tags": []
   },
   "outputs": [
    {
     "data": {
      "image/png": "[encoded data removed]",
      "text/plain": [
       "<Figure size 1080x360 with 1 Axes>"
      ]
     },
     "metadata": {
      "needs_background": "light"
     },
     "output_type": "display_data"
    }
   ],
   "source": [
    "#Models Accuracy\n",
    "import matplotlib.pyplot as plt\n",
    "\n",
    "styles=[':','-.','--','-',':','-.','--','-',':','-.','--','-']\n",
    "names=['Model {}'.format(i) for i in range(ensem)]\n",
    "plt.figure(figsize=(15,5))\n",
    "for i in range(ensem):\n",
    "    plt.plot(history[i].history['val_accuracy'],linestyle=styles[i])\n",
    "plt.title('Models accuracy')\n",
    "plt.ylabel('Accuracy')\n",
    "plt.xlabel('# Epoch')\n",
    "plt.legend(names, loc='lower right')\n",
    "axes = plt.gca()\n",
    "axes.set_ylim([0.8,1])\n",
    "plt.show()"
   ]
  },
  {
   "cell_type": "markdown",
   "execution_count": null,
   "metadata": {
    "papermill": {
     "duration": 0.009072,
     "end_time": "2020-09-09T13:03:40.402786",
     "exception": false,
     "start_time": "2020-09-09T13:03:40.393714",
     "status": "completed"
    },
    "tags": []
   },
   "source": [
    "* All the models follow a similar trend for Validation Accuracy"
   ]
  },
  {
   "cell_type": "code",
   "execution_count": 11,
   "metadata": {
    "execution": {
     "iopub.execute_input": "2020-09-09T13:03:40.440194Z",
     "iopub.status.busy": "2020-09-09T13:03:40.433884Z",
     "iopub.status.idle": "2020-09-09T13:03:40.750160Z",
     "shell.execute_reply": "2020-09-09T13:03:40.750730Z"
    },
    "papermill": {
     "duration": 0.338741,
     "end_time": "2020-09-09T13:03:40.750888",
     "exception": false,
     "start_time": "2020-09-09T13:03:40.412147",
     "status": "completed"
    },
    "tags": []
   },
   "outputs": [
    {
     "data": {
      "image/png": "[encoded data removed]",
      "text/plain": [
       "<Figure size 864x288 with 2 Axes>"
      ]
     },
     "metadata": {
      "needs_background": "light"
     },
     "output_type": "display_data"
    }
   ],
   "source": [
    "#Plotting the loss and accuracy for the first model.\n",
    "#All the modesl follow a similar trend\n",
    "\n",
    "def plot_model(history):\n",
    "    fig,(ax1,ax2)=plt.subplots(1,2,figsize=(12,4))\n",
    "    fig.suptitle('Model Accuracy and Loss')\n",
    "\n",
    "    ax1.plot(history[0].history['accuracy'])\n",
    "    ax1.plot(history[0].history['val_accuracy'])\n",
    "    ax1.title.set_text('Accuracy')\n",
    "    ax1.set_ylabel('Accuracy')\n",
    "    ax1.set_xlabel('Epoch')\n",
    "    ax1.legend(['Train','Valid'],loc=4)\n",
    "\n",
    "    ax2.plot(history[0].history['loss'])\n",
    "    ax2.plot(history[0].history['val_loss'])\n",
    "    ax2.title.set_text('Loss')\n",
    "    ax2.set_ylabel('Loss')\n",
    "    ax2.set_xlabel('Epoch')\n",
    "    ax2.legend(['Train','Valid'],loc=1)\n",
    "\n",
    "    fig.show()\n",
    "\n",
    "plot_model(history)"
   ]
  },
  {
   "cell_type": "code",
   "execution_count": 12,
   "metadata": {
    "execution": {
     "iopub.execute_input": "2020-09-09T13:03:40.781938Z",
     "iopub.status.busy": "2020-09-09T13:03:40.781086Z",
     "iopub.status.idle": "2020-09-09T13:03:42.448458Z",
     "shell.execute_reply": "2020-09-09T13:03:42.447772Z"
    },
    "papermill": {
     "duration": 1.687204,
     "end_time": "2020-09-09T13:03:42.448606",
     "exception": false,
     "start_time": "2020-09-09T13:03:40.761402",
     "status": "completed"
    },
    "tags": []
   },
   "outputs": [
    {
     "name": "stdout",
     "output_type": "stream",
     "text": [
      "Classification Report\n",
      "              precision    recall  f1-score   support\n",
      "\n",
      "           0       1.00      1.00      1.00       869\n",
      "           1       1.00      0.99      1.00       962\n",
      "           2       1.00      1.00      1.00       799\n",
      "           3       1.00      1.00      1.00       893\n",
      "           4       1.00      1.00      1.00       820\n",
      "           5       1.00      1.00      1.00       773\n",
      "           6       1.00      1.00      1.00       844\n",
      "           7       0.99      1.00      1.00       850\n",
      "           8       1.00      1.00      1.00       767\n",
      "           9       1.00      1.00      1.00       823\n",
      "\n",
      "    accuracy                           1.00      8400\n",
      "   macro avg       1.00      1.00      1.00      8400\n",
      "weighted avg       1.00      1.00      1.00      8400\n",
      "\n"
     ]
    },
    {
     "data": {
      "image/png": "[encoded data removed]",
      "text/plain": [
       "<Figure size 1152x576 with 2 Axes>"
      ]
     },
     "metadata": {
      "needs_background": "light"
     },
     "output_type": "display_data"
    }
   ],
   "source": [
    "#Classification Report and Confusion Matrix for the first model\n",
    "\n",
    "from sklearn.metrics import classification_report, confusion_matrix\n",
    "import seaborn as sns\n",
    "\n",
    "#Predicting values from the validation dataset and one hot encoding the predicted and true labels\n",
    "y_pred=model[0].predict(valid_x)\n",
    "y_pred_classes=np.argmax(y_pred, axis=1)\n",
    "y_true=np.argmax(valid_y, axis=1)\n",
    "\n",
    "#Classification Report\n",
    "print('Classification Report')\n",
    "report=classification_report(y_true, y_pred_classes)\n",
    "print(report)\n",
    "\n",
    "#Computuing and Plotting Confusion Matrix\n",
    "confusion_mtx=confusion_matrix(y_true, y_pred_classes)\n",
    "f,ax=plt.subplots(figsize=(16,8))\n",
    "sns.heatmap(confusion_mtx,annot=True,fmt='')\n",
    "plt.xlabel(\"Predicted\",size=12)\n",
    "plt.ylabel(\"True\",size=12)\n",
    "plt.title(\"Confusion Matrix\",size=20)\n",
    "plt.show()"
   ]
  },
  {
   "cell_type": "markdown",
   "execution_count": null,
   "metadata": {
    "papermill": {
     "duration": 0.011108,
     "end_time": "2020-09-09T13:03:42.472196",
     "exception": false,
     "start_time": "2020-09-09T13:03:42.461088",
     "status": "completed"
    },
    "tags": []
   },
   "source": [
    "* Most of the values are correctly predicted with high precision\n",
    "* Highest error rate is between 7-2 and 4-9"
   ]
  },
  {
   "cell_type": "markdown",
   "execution_count": null,
   "metadata": {
    "papermill": {
     "duration": 0.011786,
     "end_time": "2020-09-09T13:03:42.495889",
     "exception": false,
     "start_time": "2020-09-09T13:03:42.484103",
     "status": "completed"
    },
    "tags": []
   },
   "source": [
    "# Submission"
   ]
  },
  {
   "cell_type": "code",
   "execution_count": 13,
   "metadata": {
    "execution": {
     "iopub.execute_input": "2020-09-09T13:03:42.528458Z",
     "iopub.status.busy": "2020-09-09T13:03:42.527724Z",
     "iopub.status.idle": "2020-09-09T13:03:57.326968Z",
     "shell.execute_reply": "2020-09-09T13:03:57.325811Z"
    },
    "papermill": {
     "duration": 14.819608,
     "end_time": "2020-09-09T13:03:57.327106",
     "exception": false,
     "start_time": "2020-09-09T13:03:42.507498",
     "status": "completed"
    },
    "tags": []
   },
   "outputs": [],
   "source": [
    "prediction=np.zeros((test.shape[0],10)) \n",
    "for i in range(ensem):\n",
    "    prediction=prediction+model[i].predict(test)\n",
    "prediction=np.argmax(prediction,axis = 1)\n",
    "prediction=pd.Series(prediction,name=\"Label\")\n",
    "\n",
    "submission = pd.concat([pd.Series(range(1,28001),name=\"ImageId\"),prediction],axis=1)\n",
    "submission.to_csv(\"digit_recognizer.csv\",index=False)"
   ]
  },
  {
   "cell_type": "markdown",
   "execution_count": null,
   "metadata": {
    "papermill": {
     "duration": 0.009767,
     "end_time": "2020-09-09T13:03:57.347537",
     "exception": false,
     "start_time": "2020-09-09T13:03:57.337770",
     "status": "completed"
    },
    "tags": []
   },
   "source": [
    "### Hope this helps 😄"
   ]
  },
  {
   "cell_type": "markdown",
   "execution_count": null,
   "metadata": {
    "papermill": {
     "duration": 0.010419,
     "end_time": "2020-09-09T13:03:57.367950",
     "exception": false,
     "start_time": "2020-09-09T13:03:57.357531",
     "status": "completed"
    },
    "tags": []
   },
   "source": [
    "# Thank You 🙏"
   ]
  }
 ],
 "metadata": {
  "kernelspec": {
   "display_name": "Python 3",
   "language": "python",
   "name": "python3"
  },
  "language_info": {
   "codemirror_mode": {
    "name": "ipython",
    "version": 3
   },
   "file_extension": ".py",
   "mimetype": "text/x-python",
   "name": "python",
   "nbconvert_exporter": "python",
   "pygments_lexer": "ipython3",
   "version": "3.7.6"
  },
  "papermill": {
   "duration": 4789.545637,
   "end_time": "2020-09-09T13:03:59.278235",
   "environment_variables": {},
   "exception": null,
   "input_path": "__notebook__.ipynb",
   "output_path": "__notebook__.ipynb",
   "parameters": {},
   "start_time": "2020-09-09T11:44:09.732598",
   "version": "2.1.0"
  }
 },
 "nbformat": 4,
 "nbformat_minor": 4
}
